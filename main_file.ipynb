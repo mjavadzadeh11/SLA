{
 "cells": [
  {
   "cell_type": "code",
   "execution_count": 76,
   "id": "2da4bb72",
   "metadata": {},
   "outputs": [],
   "source": [
    "import os\n",
    "import pandas as pd\n",
    "import load\n",
    "import sheet_info as info\n",
    "import sum_daily\n",
    "import time_f\n",
    "import check_days\n"
   ]
  },
  {
   "cell_type": "code",
   "execution_count": 17,
   "id": "a272d2a1",
   "metadata": {},
   "outputs": [],
   "source": [
    "# Load all sheets in excel file and calculate the amount of sheets.\n",
    "filename='cfs.xlsx'\n",
    "[res,sheets]=load.load(filename)\n",
    "# Main is the system file.\n",
    "main=sheets[0]\n",
    "# Return the index of Total in excels:\n",
    "[Date , Day , Dw , Duration , Disrupt , _ ]=info.sheet_info(main)"
   ]
  },
  {
   "cell_type": "code",
   "execution_count": 99,
   "id": "43922862",
   "metadata": {},
   "outputs": [],
   "source": [
    "# Datas in every sheets which represent a service added to separete stage to calculate required variables.\n",
    "for i in range(len(sheets)):  #len(sheets)\n",
    "    sub=sheets[i]\n",
    "    sub1=sub.copy()\n",
    "    \n",
    "    [date , day , dw , duration , disrupt , unique_day]\\\n",
    "        =info.sheet_info(sub)"
   ]
  },
  {
   "cell_type": "code",
   "execution_count": 10,
   "id": "ab968085",
   "metadata": {},
   "outputs": [],
   "source": [
    "# If a sheet is empty means there are not drop of transaction which means bank should be rewarded.\n",
    "''''if info.empty_sheets(sub,day):\n",
    "        \n",
    "        sub1[4,8] = 0 \n",
    "        sub1[4,9] = 0\n",
    "        if i == 0:\n",
    "            sub1[4,10]=0\n",
    "        else:\n",
    "            print (\"Hi\")\n",
    "           # sub1[4,10]=Monthly_Threshold.*sys_W_reward.*Reward_fact.*cont_Fee/(24*60*31*100)'''\n",
    "        \n",
    "           \n",
    "           "
   ]
  },
  {
   "cell_type": "code",
   "execution_count": 38,
   "id": "c3a7a49b",
   "metadata": {
    "scrolled": true
   },
   "outputs": [
    {
     "data": {
      "text/html": [
       "<div>\n",
       "<style scoped>\n",
       "    .dataframe tbody tr th:only-of-type {\n",
       "        vertical-align: middle;\n",
       "    }\n",
       "\n",
       "    .dataframe tbody tr th {\n",
       "        vertical-align: top;\n",
       "    }\n",
       "\n",
       "    .dataframe thead th {\n",
       "        text-align: right;\n",
       "    }\n",
       "</style>\n",
       "<table border=\"1\" class=\"dataframe\">\n",
       "  <thead>\n",
       "    <tr style=\"text-align: right;\">\n",
       "      <th></th>\n",
       "      <th>نوع سامانه</th>\n",
       "      <th>ساعت کاری روزهای عادی</th>\n",
       "      <th>ساعت کاری روزهای پنج شنبه</th>\n",
       "      <th>ساعت کاری روزهای تعطیل</th>\n",
       "      <th>Unnamed: 4</th>\n",
       "      <th>Unnamed: 5</th>\n",
       "      <th>Unnamed: 6</th>\n",
       "      <th>Unnamed: 7</th>\n",
       "      <th>Unnamed: 8</th>\n",
       "      <th>Unnamed: 9</th>\n",
       "    </tr>\n",
       "  </thead>\n",
       "  <tbody>\n",
       "    <tr>\n",
       "      <th>0</th>\n",
       "      <td>برداشت وجه از خودپرداز</td>\n",
       "      <td>24</td>\n",
       "      <td>24</td>\n",
       "      <td>24</td>\n",
       "      <td>NaN</td>\n",
       "      <td>NaN</td>\n",
       "      <td>NaN</td>\n",
       "      <td>NaN</td>\n",
       "      <td>NaN</td>\n",
       "      <td>NaN</td>\n",
       "    </tr>\n",
       "    <tr>\n",
       "      <th>1</th>\n",
       "      <td>Date</td>\n",
       "      <td>From</td>\n",
       "      <td>To</td>\n",
       "      <td>Duration(min)</td>\n",
       "      <td>TimeFact</td>\n",
       "      <td>Disrupt.</td>\n",
       "      <td>NaN</td>\n",
       "      <td>Daily Punishment</td>\n",
       "      <td>Monthly Punishment</td>\n",
       "      <td>Reward</td>\n",
       "    </tr>\n",
       "    <tr>\n",
       "      <th>2</th>\n",
       "      <td>1399/09/07</td>\n",
       "      <td>01:23:15</td>\n",
       "      <td>04:03:19</td>\n",
       "      <td>160.06</td>\n",
       "      <td>1</td>\n",
       "      <td>1</td>\n",
       "      <td>NaN</td>\n",
       "      <td>NaN</td>\n",
       "      <td>NaN</td>\n",
       "      <td>NaN</td>\n",
       "    </tr>\n",
       "    <tr>\n",
       "      <th>3</th>\n",
       "      <td>1399/09/09</td>\n",
       "      <td>00:00:01</td>\n",
       "      <td>00:06:47</td>\n",
       "      <td>6.77</td>\n",
       "      <td>1</td>\n",
       "      <td>1</td>\n",
       "      <td>NaN</td>\n",
       "      <td>NaN</td>\n",
       "      <td>NaN</td>\n",
       "      <td>NaN</td>\n",
       "    </tr>\n",
       "    <tr>\n",
       "      <th>4</th>\n",
       "      <td>1399/09/15</td>\n",
       "      <td>14:27:59</td>\n",
       "      <td>14:29:11</td>\n",
       "      <td>1.2</td>\n",
       "      <td>3</td>\n",
       "      <td>0.5</td>\n",
       "      <td>NaN</td>\n",
       "      <td>NaN</td>\n",
       "      <td>NaN</td>\n",
       "      <td>NaN</td>\n",
       "    </tr>\n",
       "    <tr>\n",
       "      <th>5</th>\n",
       "      <td>1399/09/22</td>\n",
       "      <td>11:54:11</td>\n",
       "      <td>11:55:18</td>\n",
       "      <td>1.12</td>\n",
       "      <td>3</td>\n",
       "      <td>0.5</td>\n",
       "      <td>NaN</td>\n",
       "      <td>NaN</td>\n",
       "      <td>NaN</td>\n",
       "      <td>NaN</td>\n",
       "    </tr>\n",
       "    <tr>\n",
       "      <th>6</th>\n",
       "      <td>Total</td>\n",
       "      <td>NaN</td>\n",
       "      <td>NaN</td>\n",
       "      <td>169.15</td>\n",
       "      <td>NaN</td>\n",
       "      <td>NaN</td>\n",
       "      <td>NaN</td>\n",
       "      <td>NaN</td>\n",
       "      <td>NaN</td>\n",
       "      <td>NaN</td>\n",
       "    </tr>\n",
       "  </tbody>\n",
       "</table>\n",
       "</div>"
      ],
      "text/plain": [
       "              نوع سامانه  ساعت کاری روزهای عادی ساعت کاری روزهای پنج شنبه  \\\n",
       "0  برداشت وجه از خودپرداز                    24                        24   \n",
       "1                    Date                  From                        To   \n",
       "2              1399/09/07              01:23:15                  04:03:19   \n",
       "3              1399/09/09              00:00:01                  00:06:47   \n",
       "4              1399/09/15              14:27:59                  14:29:11   \n",
       "5              1399/09/22              11:54:11                  11:55:18   \n",
       "6                   Total                   NaN                       NaN   \n",
       "\n",
       "  ساعت کاری روزهای تعطیل Unnamed: 4 Unnamed: 5  Unnamed: 6        Unnamed: 7  \\\n",
       "0                     24        NaN        NaN         NaN               NaN   \n",
       "1          Duration(min)   TimeFact   Disrupt.         NaN  Daily Punishment   \n",
       "2                 160.06          1          1         NaN               NaN   \n",
       "3                   6.77          1          1         NaN               NaN   \n",
       "4                    1.2          3        0.5         NaN               NaN   \n",
       "5                   1.12          3        0.5         NaN               NaN   \n",
       "6                 169.15        NaN        NaN         NaN               NaN   \n",
       "\n",
       "           Unnamed: 8 Unnamed: 9  \n",
       "0                 NaN        NaN  \n",
       "1  Monthly Punishment     Reward  \n",
       "2                 NaN        NaN  \n",
       "3                 NaN        NaN  \n",
       "4                 NaN        NaN  \n",
       "5                 NaN        NaN  \n",
       "6                 NaN        NaN  "
      ]
     },
     "execution_count": 38,
     "metadata": {},
     "output_type": "execute_result"
    }
   ],
   "source": [
    "# There are 4 zone of time for punishment based on amount of transactions.\n",
    "time_f.time_fact(main,Day,Dw , Duration) \n",
    "time_f.time_fact(sub, day, dw , duration)\n",
    "time_f.time_fact(sub1, day, dw , duration)\n",
    "sub1"
   ]
  },
  {
   "cell_type": "code",
   "execution_count": 55,
   "id": "65cc1a77",
   "metadata": {
    "scrolled": true
   },
   "outputs": [],
   "source": [
    "# There is a daily limit which is 5 mins. if sum of disconnection of a whole day has been lower than daily limit service don't punish.\n",
    "# The important part is it's very likly to have more than one disconnection during a day and sum of all of them has been lower than 5 mins. consequently sum of disconnection calculated with this function.\n",
    "def sum_daily(day,unique_day,duration):\n",
    "    dict_unique={}\n",
    "    dict_unique1={}\n",
    "    \n",
    "    for days in unique_day:\n",
    "        \n",
    "        for i in range(len(day)):\n",
    "            \n",
    "            if days==day.iloc[i]:\n",
    "                 dict_unique.setdefault(days , 0)\n",
    "                 dict_unique[days]+=duration.iloc[i]\n",
    "                 \n",
    "    for i in dict_unique.keys():\n",
    "        if dict_unique[i]>5:\n",
    "            dict_unique1[i]=[dict_unique[i] , True]\n",
    "        else:\n",
    "            dict_unique1[i]=[dict_unique[i], False]\n",
    "    return dict_unique1 \n",
    "\n",
    "unique_df = sum_daily(day, unique_day, duration)\n",
    "\n",
    "\n",
    "            \n",
    "# When there is disconnection both system and service should punish and if the disconnection already exist in system service shouldn't punish.\n",
    "# Subsequently the ind variable check the matches days in services and system to find equal days.the key in this varible is the day in system and the value which is a list represent days which equal to key in services.\n",
    "ind = check_days.check_days(day, Day)\n"
   ]
  },
  {
   "cell_type": "code",
   "execution_count": 56,
   "id": "34fc428e",
   "metadata": {},
   "outputs": [
    {
     "data": {
      "text/plain": [
       "{'07': [160.06, True],\n",
       " '09': [6.77, True],\n",
       " '15': [1.2, False],\n",
       " '22': [1.12, False]}"
      ]
     },
     "execution_count": 56,
     "metadata": {},
     "output_type": "execute_result"
    }
   ],
   "source": []
  },
  {
   "cell_type": "code",
   "execution_count": 58,
   "id": "b115e809",
   "metadata": {},
   "outputs": [],
   "source": [
    "for i , m in ind.items():\n",
    "    for j in m:\n",
    "\n",
    "        duration.iloc[j] = time_f.inside_duration(dw.iloc[j,0], dw.iloc[j,1],\\\n",
    "                           Dw.iloc[i,0],  Dw.iloc[i,1], Disrupt.iloc[i],duration,j)\n",
    "\n",
    "\n",
    "\n",
    "\n",
    "\n",
    "time_f.under_limit(day, Day, unique_df, duration)"
   ]
  },
  {
   "cell_type": "code",
   "execution_count": 67,
   "id": "bc364594",
   "metadata": {},
   "outputs": [],
   "source": [
    "for i in range (2,sub1.shape[0]-1):\n",
    "        \n",
    "        # sub1.iloc[i,6] : Multiplication of duration , distrupt and timefact\n",
    "        # sub.iloc[i,3]  : Durations which under limit of day and common with service are eliminate\n",
    "        # sub1.iloc[i,4] : Timefact\n",
    "        # sub1.iloc[i,5] : Disrupt\n",
    "        sub1.iloc[i,6] = sub.iloc[i,3] * sub1.iloc[i,4] * sub1.iloc[i,5]\n",
    "        "
   ]
  },
  {
   "cell_type": "code",
   "execution_count": 70,
   "id": "f14763bf",
   "metadata": {
    "scrolled": false
   },
   "outputs": [
    {
     "ename": "PermissionError",
     "evalue": "[Errno 13] Permission denied: 'C:\\\\Users\\\\javadzadeh.PULSEWARE\\\\Desktop\\\\sla\\\\python\\\\edited'",
     "output_type": "error",
     "traceback": [
      "\u001b[1;31m---------------------------------------------------------------------------\u001b[0m",
      "\u001b[1;31mPermissionError\u001b[0m                           Traceback (most recent call last)",
      "\u001b[1;32m<ipython-input-70-2d73ff5c4e33>\u001b[0m in \u001b[0;36m<module>\u001b[1;34m\u001b[0m\n\u001b[1;32m----> 1\u001b[1;33m \u001b[0msub1\u001b[0m\u001b[1;33m.\u001b[0m\u001b[0mto_csv\u001b[0m\u001b[1;33m(\u001b[0m\u001b[1;34mr'C:\\Users\\javadzadeh.PULSEWARE\\Desktop\\sla\\python\\edited'\u001b[0m \u001b[1;33m,\u001b[0m\u001b[0mindex\u001b[0m\u001b[1;33m=\u001b[0m\u001b[1;32mFalse\u001b[0m\u001b[1;33m)\u001b[0m\u001b[1;33m\u001b[0m\u001b[1;33m\u001b[0m\u001b[0m\n\u001b[0m",
      "\u001b[1;32m~\\Anaconda3\\lib\\site-packages\\pandas\\core\\generic.py\u001b[0m in \u001b[0;36mto_csv\u001b[1;34m(self, path_or_buf, sep, na_rep, float_format, columns, header, index, index_label, mode, encoding, compression, quoting, quotechar, line_terminator, chunksize, date_format, doublequote, escapechar, decimal, errors, storage_options)\u001b[0m\n\u001b[0;32m   3385\u001b[0m         )\n\u001b[0;32m   3386\u001b[0m \u001b[1;33m\u001b[0m\u001b[0m\n\u001b[1;32m-> 3387\u001b[1;33m         return DataFrameRenderer(formatter).to_csv(\n\u001b[0m\u001b[0;32m   3388\u001b[0m             \u001b[0mpath_or_buf\u001b[0m\u001b[1;33m,\u001b[0m\u001b[1;33m\u001b[0m\u001b[1;33m\u001b[0m\u001b[0m\n\u001b[0;32m   3389\u001b[0m             \u001b[0mline_terminator\u001b[0m\u001b[1;33m=\u001b[0m\u001b[0mline_terminator\u001b[0m\u001b[1;33m,\u001b[0m\u001b[1;33m\u001b[0m\u001b[1;33m\u001b[0m\u001b[0m\n",
      "\u001b[1;32m~\\Anaconda3\\lib\\site-packages\\pandas\\io\\formats\\format.py\u001b[0m in \u001b[0;36mto_csv\u001b[1;34m(self, path_or_buf, encoding, sep, columns, index_label, mode, compression, quoting, quotechar, line_terminator, chunksize, date_format, doublequote, escapechar, errors, storage_options)\u001b[0m\n\u001b[0;32m   1081\u001b[0m             \u001b[0mformatter\u001b[0m\u001b[1;33m=\u001b[0m\u001b[0mself\u001b[0m\u001b[1;33m.\u001b[0m\u001b[0mfmt\u001b[0m\u001b[1;33m,\u001b[0m\u001b[1;33m\u001b[0m\u001b[1;33m\u001b[0m\u001b[0m\n\u001b[0;32m   1082\u001b[0m         )\n\u001b[1;32m-> 1083\u001b[1;33m         \u001b[0mcsv_formatter\u001b[0m\u001b[1;33m.\u001b[0m\u001b[0msave\u001b[0m\u001b[1;33m(\u001b[0m\u001b[1;33m)\u001b[0m\u001b[1;33m\u001b[0m\u001b[1;33m\u001b[0m\u001b[0m\n\u001b[0m\u001b[0;32m   1084\u001b[0m \u001b[1;33m\u001b[0m\u001b[0m\n\u001b[0;32m   1085\u001b[0m         \u001b[1;32mif\u001b[0m \u001b[0mcreated_buffer\u001b[0m\u001b[1;33m:\u001b[0m\u001b[1;33m\u001b[0m\u001b[1;33m\u001b[0m\u001b[0m\n",
      "\u001b[1;32m~\\Anaconda3\\lib\\site-packages\\pandas\\io\\formats\\csvs.py\u001b[0m in \u001b[0;36msave\u001b[1;34m(self)\u001b[0m\n\u001b[0;32m    226\u001b[0m         \"\"\"\n\u001b[0;32m    227\u001b[0m         \u001b[1;31m# apply compression and byte/text conversion\u001b[0m\u001b[1;33m\u001b[0m\u001b[1;33m\u001b[0m\u001b[1;33m\u001b[0m\u001b[0m\n\u001b[1;32m--> 228\u001b[1;33m         with get_handle(\n\u001b[0m\u001b[0;32m    229\u001b[0m             \u001b[0mself\u001b[0m\u001b[1;33m.\u001b[0m\u001b[0mfilepath_or_buffer\u001b[0m\u001b[1;33m,\u001b[0m\u001b[1;33m\u001b[0m\u001b[1;33m\u001b[0m\u001b[0m\n\u001b[0;32m    230\u001b[0m             \u001b[0mself\u001b[0m\u001b[1;33m.\u001b[0m\u001b[0mmode\u001b[0m\u001b[1;33m,\u001b[0m\u001b[1;33m\u001b[0m\u001b[1;33m\u001b[0m\u001b[0m\n",
      "\u001b[1;32m~\\Anaconda3\\lib\\site-packages\\pandas\\io\\common.py\u001b[0m in \u001b[0;36mget_handle\u001b[1;34m(path_or_buf, mode, encoding, compression, memory_map, is_text, errors, storage_options)\u001b[0m\n\u001b[0;32m    640\u001b[0m                 \u001b[0merrors\u001b[0m \u001b[1;33m=\u001b[0m \u001b[1;34m\"replace\"\u001b[0m\u001b[1;33m\u001b[0m\u001b[1;33m\u001b[0m\u001b[0m\n\u001b[0;32m    641\u001b[0m             \u001b[1;31m# Encoding\u001b[0m\u001b[1;33m\u001b[0m\u001b[1;33m\u001b[0m\u001b[1;33m\u001b[0m\u001b[0m\n\u001b[1;32m--> 642\u001b[1;33m             handle = open(\n\u001b[0m\u001b[0;32m    643\u001b[0m                 \u001b[0mhandle\u001b[0m\u001b[1;33m,\u001b[0m\u001b[1;33m\u001b[0m\u001b[1;33m\u001b[0m\u001b[0m\n\u001b[0;32m    644\u001b[0m                 \u001b[0mioargs\u001b[0m\u001b[1;33m.\u001b[0m\u001b[0mmode\u001b[0m\u001b[1;33m,\u001b[0m\u001b[1;33m\u001b[0m\u001b[1;33m\u001b[0m\u001b[0m\n",
      "\u001b[1;31mPermissionError\u001b[0m: [Errno 13] Permission denied: 'C:\\\\Users\\\\javadzadeh.PULSEWARE\\\\Desktop\\\\sla\\\\python\\\\edited'"
     ]
    }
   ],
   "source": []
  },
  {
   "cell_type": "code",
   "execution_count": 96,
   "id": "35344172",
   "metadata": {},
   "outputs": [],
   "source": [
    "path=os.path.abspath(os.getcwd()) +'\\edited'\n",
    "\n",
    "if os.path.isdir(path):\n",
    "    pass\n",
    "else:\n",
    "    os.mkdir('edited')\n"
   ]
  },
  {
   "cell_type": "code",
   "execution_count": 98,
   "id": "15b62bd2",
   "metadata": {
    "scrolled": true
   },
   "outputs": [
    {
     "ename": "PermissionError",
     "evalue": "[Errno 13] Permission denied: 'edited'",
     "output_type": "error",
     "traceback": [
      "\u001b[1;31m---------------------------------------------------------------------------\u001b[0m",
      "\u001b[1;31mPermissionError\u001b[0m                           Traceback (most recent call last)",
      "\u001b[1;32m<ipython-input-98-4454d287fd59>\u001b[0m in \u001b[0;36m<module>\u001b[1;34m\u001b[0m\n\u001b[1;32m----> 1\u001b[1;33m \u001b[0msub1\u001b[0m\u001b[1;33m.\u001b[0m\u001b[0mto_csv\u001b[0m\u001b[1;33m(\u001b[0m\u001b[1;34mr'edited'\u001b[0m \u001b[1;33m,\u001b[0m\u001b[0mindex\u001b[0m\u001b[1;33m=\u001b[0m\u001b[1;32mFalse\u001b[0m\u001b[1;33m)\u001b[0m\u001b[1;33m\u001b[0m\u001b[1;33m\u001b[0m\u001b[0m\n\u001b[0m",
      "\u001b[1;32m~\\Anaconda3\\lib\\site-packages\\pandas\\core\\generic.py\u001b[0m in \u001b[0;36mto_csv\u001b[1;34m(self, path_or_buf, sep, na_rep, float_format, columns, header, index, index_label, mode, encoding, compression, quoting, quotechar, line_terminator, chunksize, date_format, doublequote, escapechar, decimal, errors, storage_options)\u001b[0m\n\u001b[0;32m   3385\u001b[0m         )\n\u001b[0;32m   3386\u001b[0m \u001b[1;33m\u001b[0m\u001b[0m\n\u001b[1;32m-> 3387\u001b[1;33m         return DataFrameRenderer(formatter).to_csv(\n\u001b[0m\u001b[0;32m   3388\u001b[0m             \u001b[0mpath_or_buf\u001b[0m\u001b[1;33m,\u001b[0m\u001b[1;33m\u001b[0m\u001b[1;33m\u001b[0m\u001b[0m\n\u001b[0;32m   3389\u001b[0m             \u001b[0mline_terminator\u001b[0m\u001b[1;33m=\u001b[0m\u001b[0mline_terminator\u001b[0m\u001b[1;33m,\u001b[0m\u001b[1;33m\u001b[0m\u001b[1;33m\u001b[0m\u001b[0m\n",
      "\u001b[1;32m~\\Anaconda3\\lib\\site-packages\\pandas\\io\\formats\\format.py\u001b[0m in \u001b[0;36mto_csv\u001b[1;34m(self, path_or_buf, encoding, sep, columns, index_label, mode, compression, quoting, quotechar, line_terminator, chunksize, date_format, doublequote, escapechar, errors, storage_options)\u001b[0m\n\u001b[0;32m   1081\u001b[0m             \u001b[0mformatter\u001b[0m\u001b[1;33m=\u001b[0m\u001b[0mself\u001b[0m\u001b[1;33m.\u001b[0m\u001b[0mfmt\u001b[0m\u001b[1;33m,\u001b[0m\u001b[1;33m\u001b[0m\u001b[1;33m\u001b[0m\u001b[0m\n\u001b[0;32m   1082\u001b[0m         )\n\u001b[1;32m-> 1083\u001b[1;33m         \u001b[0mcsv_formatter\u001b[0m\u001b[1;33m.\u001b[0m\u001b[0msave\u001b[0m\u001b[1;33m(\u001b[0m\u001b[1;33m)\u001b[0m\u001b[1;33m\u001b[0m\u001b[1;33m\u001b[0m\u001b[0m\n\u001b[0m\u001b[0;32m   1084\u001b[0m \u001b[1;33m\u001b[0m\u001b[0m\n\u001b[0;32m   1085\u001b[0m         \u001b[1;32mif\u001b[0m \u001b[0mcreated_buffer\u001b[0m\u001b[1;33m:\u001b[0m\u001b[1;33m\u001b[0m\u001b[1;33m\u001b[0m\u001b[0m\n",
      "\u001b[1;32m~\\Anaconda3\\lib\\site-packages\\pandas\\io\\formats\\csvs.py\u001b[0m in \u001b[0;36msave\u001b[1;34m(self)\u001b[0m\n\u001b[0;32m    226\u001b[0m         \"\"\"\n\u001b[0;32m    227\u001b[0m         \u001b[1;31m# apply compression and byte/text conversion\u001b[0m\u001b[1;33m\u001b[0m\u001b[1;33m\u001b[0m\u001b[1;33m\u001b[0m\u001b[0m\n\u001b[1;32m--> 228\u001b[1;33m         with get_handle(\n\u001b[0m\u001b[0;32m    229\u001b[0m             \u001b[0mself\u001b[0m\u001b[1;33m.\u001b[0m\u001b[0mfilepath_or_buffer\u001b[0m\u001b[1;33m,\u001b[0m\u001b[1;33m\u001b[0m\u001b[1;33m\u001b[0m\u001b[0m\n\u001b[0;32m    230\u001b[0m             \u001b[0mself\u001b[0m\u001b[1;33m.\u001b[0m\u001b[0mmode\u001b[0m\u001b[1;33m,\u001b[0m\u001b[1;33m\u001b[0m\u001b[1;33m\u001b[0m\u001b[0m\n",
      "\u001b[1;32m~\\Anaconda3\\lib\\site-packages\\pandas\\io\\common.py\u001b[0m in \u001b[0;36mget_handle\u001b[1;34m(path_or_buf, mode, encoding, compression, memory_map, is_text, errors, storage_options)\u001b[0m\n\u001b[0;32m    640\u001b[0m                 \u001b[0merrors\u001b[0m \u001b[1;33m=\u001b[0m \u001b[1;34m\"replace\"\u001b[0m\u001b[1;33m\u001b[0m\u001b[1;33m\u001b[0m\u001b[0m\n\u001b[0;32m    641\u001b[0m             \u001b[1;31m# Encoding\u001b[0m\u001b[1;33m\u001b[0m\u001b[1;33m\u001b[0m\u001b[1;33m\u001b[0m\u001b[0m\n\u001b[1;32m--> 642\u001b[1;33m             handle = open(\n\u001b[0m\u001b[0;32m    643\u001b[0m                 \u001b[0mhandle\u001b[0m\u001b[1;33m,\u001b[0m\u001b[1;33m\u001b[0m\u001b[1;33m\u001b[0m\u001b[0m\n\u001b[0;32m    644\u001b[0m                 \u001b[0mioargs\u001b[0m\u001b[1;33m.\u001b[0m\u001b[0mmode\u001b[0m\u001b[1;33m,\u001b[0m\u001b[1;33m\u001b[0m\u001b[1;33m\u001b[0m\u001b[0m\n",
      "\u001b[1;31mPermissionError\u001b[0m: [Errno 13] Permission denied: 'edited'"
     ]
    }
   ],
   "source": [
    "sub1.to_csv(r'edited' ,index=False)"
   ]
  },
  {
   "cell_type": "code",
   "execution_count": null,
   "id": "c82ff1d1",
   "metadata": {},
   "outputs": [],
   "source": []
  }
 ],
 "metadata": {
  "kernelspec": {
   "display_name": "Python 3",
   "language": "python",
   "name": "python3"
  },
  "language_info": {
   "codemirror_mode": {
    "name": "ipython",
    "version": 3
   },
   "file_extension": ".py",
   "mimetype": "text/x-python",
   "name": "python",
   "nbconvert_exporter": "python",
   "pygments_lexer": "ipython3",
   "version": "3.8.8"
  }
 },
 "nbformat": 4,
 "nbformat_minor": 5
}
